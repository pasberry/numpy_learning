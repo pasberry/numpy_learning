{
 "cells": [
  {
   "cell_type": "code",
   "execution_count": 1,
   "metadata": {},
   "outputs": [
    {
     "name": "stdout",
     "output_type": "stream",
     "text": [
      "Populating the interactive namespace from numpy and matplotlib\n"
     ]
    }
   ],
   "source": [
    "%pylab inline"
   ]
  },
  {
   "cell_type": "markdown",
   "metadata": {},
   "source": [
    "# NumPy: Beginner's Guide - Third Edition"
   ]
  },
  {
   "cell_type": "code",
   "execution_count": 2,
   "metadata": {},
   "outputs": [],
   "source": [
    "i2 = eye(2)"
   ]
  },
  {
   "cell_type": "code",
   "execution_count": 3,
   "metadata": {},
   "outputs": [
    {
     "data": {
      "text/plain": [
       "array([[1., 0.],\n",
       "       [0., 1.]])"
      ]
     },
     "execution_count": 3,
     "metadata": {},
     "output_type": "execute_result"
    }
   ],
   "source": [
    "i2"
   ]
  },
  {
   "cell_type": "code",
   "execution_count": 4,
   "metadata": {},
   "outputs": [],
   "source": [
    "savetxt('eye.txt', i2)"
   ]
  },
  {
   "cell_type": "markdown",
   "metadata": {},
   "source": [
    "# Loading from a CSV with NumPy"
   ]
  },
  {
   "cell_type": "code",
   "execution_count": 5,
   "metadata": {},
   "outputs": [],
   "source": [
    "c,v = loadtxt('data.csv', delimiter=',' , usecols=(6,7), unpack=True)"
   ]
  },
  {
   "cell_type": "code",
   "execution_count": 6,
   "metadata": {},
   "outputs": [
    {
     "data": {
      "text/plain": [
       "336.1"
      ]
     },
     "execution_count": 6,
     "metadata": {},
     "output_type": "execute_result"
    }
   ],
   "source": [
    "c"
   ]
  },
  {
   "cell_type": "code",
   "execution_count": 7,
   "metadata": {},
   "outputs": [
    {
     "data": {
      "text/plain": [
       "21144800.0"
      ]
     },
     "execution_count": 7,
     "metadata": {},
     "output_type": "execute_result"
    }
   ],
   "source": [
    "v"
   ]
  },
  {
   "cell_type": "markdown",
   "metadata": {},
   "source": [
    "# Calculating the Volume Weighted Average Price\n",
    "\n",
    "1. Read the data into arrays\n",
    "2. Calculate the Volume Weighted Average Price (**VWAP**)"
   ]
  },
  {
   "cell_type": "code",
   "execution_count": 28,
   "metadata": {},
   "outputs": [
    {
     "name": "stdout",
     "output_type": "stream",
     "text": [
      "VWAP =  350.5895493532009\n"
     ]
    }
   ],
   "source": [
    "from __future__ import print_function\n",
    "\n",
    "c,v = loadtxt('data.csv', delimiter=',' , usecols=(6,7), unpack=True)\n",
    "vwap = average(c, weights=v)\n",
    "print(\"VWAP = \", vwap)"
   ]
  },
  {
   "cell_type": "code",
   "execution_count": 29,
   "metadata": {},
   "outputs": [
    {
     "data": {
      "text/plain": [
       "350.5895493532009"
      ]
     },
     "execution_count": 29,
     "metadata": {},
     "output_type": "execute_result"
    }
   ],
   "source": [
    "vwap"
   ]
  },
  {
   "cell_type": "markdown",
   "metadata": {},
   "source": [
    "## Mean function"
   ]
  },
  {
   "cell_type": "code",
   "execution_count": 30,
   "metadata": {},
   "outputs": [
    {
     "name": "stdout",
     "output_type": "stream",
     "text": [
      "mean = 351.0376666666667\n"
     ]
    }
   ],
   "source": [
    "print(f\"mean = {mean(c)}\")"
   ]
  },
  {
   "cell_type": "markdown",
   "metadata": {},
   "source": [
    "# Time weighted average price"
   ]
  },
  {
   "cell_type": "code",
   "execution_count": 33,
   "metadata": {},
   "outputs": [
    {
     "name": "stdout",
     "output_type": "stream",
     "text": [
      "twap = 352.4283218390804\n"
     ]
    }
   ],
   "source": [
    "t = arange(len(c))\n",
    "time_weighted_average = average(c, weights=t)\n",
    "print(f\"twap = {time_weighted_average}\")"
   ]
  },
  {
   "cell_type": "markdown",
   "metadata": {},
   "source": [
    "# Highest and Lowest values\n"
   ]
  },
  {
   "cell_type": "code",
   "execution_count": 34,
   "metadata": {},
   "outputs": [
    {
     "name": "stdout",
     "output_type": "stream",
     "text": [
      "highest = 364.9\n",
      "lowest = 333.53\n",
      "349.215\n",
      "Spread high price 24.859999999999957\n",
      "Spread low price 26.970000000000027\n"
     ]
    }
   ],
   "source": [
    "h,l=np.loadtxt('data.csv', delimiter=',', usecols=(4,5), unpack=True)\n",
    "print(\"highest =\", max(h))\n",
    "print(\"lowest =\", min(l))\n",
    "print((max(h) + min(l)) /2)\n",
    "\n",
    "print(\"Spread high price\", ptp(h))\n",
    "print(\"Spread low price\", ptp(l))\n"
   ]
  },
  {
   "cell_type": "markdown",
   "metadata": {},
   "source": [
    "# Stats"
   ]
  },
  {
   "cell_type": "code",
   "execution_count": 42,
   "metadata": {},
   "outputs": [
    {
     "name": "stdout",
     "output_type": "stream",
     "text": [
      "median = 352.055\n",
      "sorted = [336.1  338.61 339.32 342.62 342.88 343.44 344.32 345.03 346.5  346.67\n",
      " 348.16 349.31 350.56 351.88 351.99 352.12 352.47 353.21 354.54 355.2\n",
      " 355.36 355.76 356.85 358.16 358.3  359.18 359.56 359.9  360.   363.13]\n",
      "14\n",
      "middle = 351.99\n",
      "average middle = 352.055\n",
      "variance = 50.126517888888884\n",
      "variance from definition = 50.126517888888884\n"
     ]
    }
   ],
   "source": [
    "c= loadtxt('data.csv', delimiter=',', usecols=(6,), unpack=True)\n",
    "print(\"median =\", median(c))\n",
    "sorted = msort(c)\n",
    "print(\"sorted =\", sorted)\n",
    "\n",
    "N = len(c)\n",
    "index = int((N - 1)/2)\n",
    "print(index)\n",
    "print(\"middle =\", sorted[index])\n",
    "print(\"average middle =\", (sorted[int(N /2)] + sorted[int((N - 1) / 2)]) / 2)\n",
    "\n",
    "print(\"variance =\", var(c))\n",
    "print(\"variance from definition =\", mean((c - c.mean())**2))\n",
    "\n"
   ]
  },
  {
   "cell_type": "markdown",
   "metadata": {},
   "source": [
    "# Analyzing Stock Returns"
   ]
  },
  {
   "cell_type": "code",
   "execution_count": 43,
   "metadata": {},
   "outputs": [
    {
     "name": "stdout",
     "output_type": "stream",
     "text": [
      "Standard deviation = 0.012922134436826306\n",
      "Indices with positive returns (array([ 0,  1,  4,  5,  6,  7,  9, 10, 11, 12, 16, 17, 18, 19, 21, 22, 23,\n",
      "       25, 28]),)\n",
      "Annual volatility 129.27478991115132\n",
      "Monthly volatility 37.318417377317765\n"
     ]
    }
   ],
   "source": [
    "c=loadtxt('data.csv', delimiter=',', usecols=(6,), unpack=True)\n",
    "\n",
    "returns = diff( c ) / c[ : -1]\n",
    "print(\"Standard deviation =\", std(returns))\n",
    "\n",
    "logreturns = diff( log(c) )\n",
    "\n",
    "posretindices = where(returns > 0)\n",
    "print(\"Indices with positive returns\", posretindices)\n",
    "\n",
    "annual_volatility = std(logreturns)/mean(logreturns)\n",
    "annual_volatility = annual_volatility / sqrt(1./252.)\n",
    "print(\"Annual volatility\", annual_volatility)\n",
    "\n",
    "print(\"Monthly volatility\", annual_volatility * sqrt(1./12.))"
   ]
  },
  {
   "cell_type": "markdown",
   "metadata": {},
   "source": [
    "# Dates\n"
   ]
  },
  {
   "cell_type": "code",
   "execution_count": 47,
   "metadata": {},
   "outputs": [
    {
     "name": "stdout",
     "output_type": "stream",
     "text": [
      "Dates = [4. 0. 1. 2. 3. 4. 0. 1. 2. 3. 4. 0. 1. 2. 3. 4. 1. 2. 3. 4. 0. 1. 2. 3.\n",
      " 4. 0. 1. 2. 3. 4.]\n",
      "Day 0 prices [[339.32 351.88 359.18 353.21 355.36]] Average 351.7900000000001\n",
      "Day 1 prices [[345.03 355.2  359.9  338.61 349.31 355.76]] Average 350.63500000000005\n",
      "Day 2 prices [[344.32 358.16 363.13 342.62 352.12 352.47]] Average 352.1366666666666\n",
      "Day 3 prices [[343.44 354.54 358.3  342.88 359.56 346.67]] Average 350.8983333333333\n",
      "Day 4 prices [[336.1  346.5  356.85 350.56 348.16 360.   351.99]] Average 350.0228571428571\n",
      "Highest average 352.1366666666666\n",
      "Top day of the week 2\n",
      "Lowest average 350.0228571428571\n",
      "Bottom day of the week 4\n"
     ]
    }
   ],
   "source": [
    "from datetime import datetime\n",
    "\n",
    "# Monday 0\n",
    "# Tuesday 1\n",
    "# Wednesday 2\n",
    "# Thursday 3\n",
    "# Friday 4\n",
    "# Saturday 5\n",
    "# Sunday 6\n",
    "def datestr2num(s):\n",
    "   return datetime.strptime(s.decode('ascii'), \"%d-%m-%Y\").date().weekday()\n",
    "\n",
    "dates, close=loadtxt('data.csv', delimiter=',', usecols=(1,6), converters={1: datestr2num}, unpack=True)\n",
    "print(\"Dates =\", dates)\n",
    "\n",
    "averages = zeros(5)\n",
    "\n",
    "for i in range(5):\n",
    "   indices = where(dates == i) \n",
    "   prices = take(close, indices)\n",
    "   avg = mean(prices)\n",
    "   print(\"Day\", i, \"prices\", prices, \"Average\", avg)\n",
    "   averages[i] = avg\n",
    "\n",
    "\n",
    "top = max(averages)\n",
    "print(\"Highest average\", top)\n",
    "print(\"Top day of the week\", argmax(averages))\n",
    "\n",
    "bottom = min(averages)\n",
    "print(\"Lowest average\", bottom)\n",
    "print(\"Bottom day of the week\", argmin(averages))"
   ]
  },
  {
   "cell_type": "markdown",
   "metadata": {},
   "source": [
    "## Using the maximum and minimum functions"
   ]
  },
  {
   "cell_type": "code",
   "execution_count": 48,
   "metadata": {},
   "outputs": [
    {
     "name": "stdout",
     "output_type": "stream",
     "text": [
      "len(h) 5 len(l) 5\n",
      "Close [336.1  339.32 345.03 344.32 343.44 346.5  351.88 355.2  358.16 354.54\n",
      " 356.85 359.18 359.9  363.13 358.3  350.56 338.61 342.62 342.88 348.16\n",
      " 353.21 349.31 352.12 359.56 360.   355.36 355.76 352.47 346.67 351.99]\n",
      "len(previousclose) 5\n",
      "Previous close [360.   355.36 355.76 352.47 346.67]\n",
      "True range [10.36  5.15  4.16  4.87  7.32]\n",
      "ATR [6.372     6.1276    5.73408   5.561264  5.9130112]\n"
     ]
    }
   ],
   "source": [
    "h, l, c = np.loadtxt('data.csv', delimiter=',', usecols=(4, 5, 6), unpack=True)\n",
    "\n",
    "N = 5\n",
    "h = h[-N:]\n",
    "l = l[-N:]\n",
    "\n",
    "print(\"len(h)\", len(h), \"len(l)\", len(l))\n",
    "print(\"Close\", c)\n",
    "previousclose = c[-N -1: -1]\n",
    "\n",
    "print(\"len(previousclose)\", len(previousclose))\n",
    "print(\"Previous close\", previousclose)\n",
    "truerange = maximum(h - l, h - previousclose, previousclose - l)\n",
    "\n",
    "print(\"True range\", truerange)\n",
    "\n",
    "atr = zeros(N)\n",
    "\n",
    "atr[0] = mean(truerange)\n",
    "\n",
    "for i in range(1, N):\n",
    "   atr[i] = (N - 1) * atr[i - 1] + truerange[i]\n",
    "   atr[i] /= N\n",
    "\n",
    "print(\"ATR\", atr)"
   ]
  },
  {
   "cell_type": "markdown",
   "metadata": {},
   "source": [
    "## Simple moving average"
   ]
  },
  {
   "cell_type": "code",
   "execution_count": 51,
   "metadata": {},
   "outputs": [
    {
     "name": "stdout",
     "output_type": "stream",
     "text": [
      "Weights [0.2 0.2 0.2 0.2 0.2]\n"
     ]
    },
    {
     "data": {
      "image/png": "[encoded data removed]",
      "text/plain": [
       "<Figure size 432x288 with 1 Axes>"
      ]
     },
     "metadata": {
      "needs_background": "light"
     },
     "output_type": "display_data"
    }
   ],
   "source": [
    "import matplotlib.pyplot as plt\n",
    "\n",
    "N = 5\n",
    "\n",
    "weights = np.ones(N) / N\n",
    "print(\"Weights\", weights)\n",
    "\n",
    "c = np.loadtxt('data.csv', delimiter=',', usecols=(6,), unpack=True)\n",
    "sma = np.convolve(weights, c)[N-1:-N+1]\n",
    "t = np.arange(N - 1, len(c))\n",
    "plt.plot(t, c[N-1:], lw=1.0, label=\"Data\")\n",
    "plt.plot(t, sma, '--', lw=2.0, label=\"Moving average\")\n",
    "plt.title(\"5 Day Moving Average\")\n",
    "plt.xlabel(\"Days\")\n",
    "plt.ylabel(\"Price ($)\")\n",
    "plt.grid()\n",
    "plt.legend()\n",
    "plt.show()"
   ]
  },
  {
   "cell_type": "markdown",
   "metadata": {},
   "source": [
    "## Exponential Moving Average"
   ]
  },
  {
   "cell_type": "code",
   "execution_count": 52,
   "metadata": {},
   "outputs": [
    {
     "name": "stdout",
     "output_type": "stream",
     "text": [
      "Exp [ 1.          2.71828183  7.3890561  20.08553692 54.59815003]\n",
      "Linspace [-1.   -0.75 -0.5  -0.25  0.  ]\n",
      "Weights [0.11405072 0.14644403 0.18803785 0.24144538 0.31002201]\n"
     ]
    },
    {
     "data": {
      "image/png": "[encoded data removed]",
      "text/plain": [
       "<Figure size 432x288 with 1 Axes>"
      ]
     },
     "metadata": {
      "needs_background": "light"
     },
     "output_type": "display_data"
    }
   ],
   "source": [
    "import matplotlib.pyplot as plt\n",
    "\n",
    "x = np.arange(5)\n",
    "print(\"Exp\", np.exp(x))\n",
    "print(\"Linspace\", np.linspace(-1, 0, 5))\n",
    "\n",
    "# Calculate weights\n",
    "N = 5\n",
    "weights = np.exp(np.linspace(-1., 0., N))\n",
    "\n",
    "# Normalize weights\n",
    "weights /= weights.sum()\n",
    "print(\"Weights\", weights)\n",
    "\n",
    "c = np.loadtxt('data.csv', delimiter=',', usecols=(6,), unpack=True)\n",
    "ema = np.convolve(weights, c)[N-1:-N+1]\n",
    "t = np.arange(N - 1, len(c))\n",
    "plt.plot(t, c[N-1:], lw=1.0, label='Data')\n",
    "plt.plot(t, ema, '--', lw=2.0, label='Exponential Moving Average')\n",
    "plt.title('5 Days Exponential Moving Average')\n",
    "plt.xlabel('Days')\n",
    "plt.ylabel('Price ($)')\n",
    "plt.legend()\n",
    "plt.grid()\n",
    "plt.show()"
   ]
  }
 ],
 "metadata": {
  "kernelspec": {
   "display_name": "Python 3",
   "language": "python",
   "name": "python3"
  },
  "language_info": {
   "codemirror_mode": {
    "name": "ipython",
    "version": 3
   },
   "file_extension": ".py",
   "mimetype": "text/x-python",
   "name": "python",
   "nbconvert_exporter": "python",
   "pygments_lexer": "ipython3",
   "version": "3.7.4"
  }
 },
 "nbformat": 4,
 "nbformat_minor": 2
}
